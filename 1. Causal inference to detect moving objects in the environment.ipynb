{
 "cells": [
  {
   "cell_type": "markdown",
   "metadata": {},
   "source": [
    "## How do we know if an object we see in the environment is stationary or moving?\n"
   ]
  },
  {
   "cell_type": "markdown",
   "metadata": {},
   "source": [
    "Imagine you are driving a car. You see stationary objects (such as trees and buildings) as well as objects that can move independently  (such as other cars, people). In order to navigate around the objects, you need to know if the objects are stationary or moving in the world. \n",
    "\n",
    "However, our brain does not have direct information about the object. It only has access to visual signals - patterns of light projected on the retina. It can only infer if the object is stationary or moving from these visual cues. \n",
    "\n",
    "I propose that our brain implements a decision process, called causal inference, to determine if the object is stationary or moving independently in the world. Visual cues to the brain comprise of two motion signals: (1) The relative motion between our body and stationary objects , `xvis`; (2) The relative motion between our body and the object, `xobj`, which depends on both how the object moves in the world and how the observer moves in the world. Causal inference predicts if the object is stationary or not by evaluating the posterior probabilities associated with the two scenarios. \n",
    "\n",
    "\n",
    "\n",
    "\n"
   ]
  },
  {
   "cell_type": "markdown",
   "metadata": {},
   "source": [
    "## Bayesian model:\n",
    "\n",
    "I develop a Bayesian model to forumalate the causal inference decision process. Here the observer compares the probability that object is stationary (C=1 scenario) with the probability that the object is moving (C=2 scenario). The model predicts the outcome consistent with the larger probability.\n",
    "\n",
    "Let `xvis` respresent a noisy estimate of our self-motion vector. I assume that the noise in `xvis` is normally distrubited with mean =  $\\mu$ and standard deviation = $\\sigma_{vis}$. \n",
    "\n",
    "Let `xobj` represent the relative motion between our body and the object. Note that the way the object moves on the retina depends not only on the speed/direction of the object itself, but also on the speed/direction of our body movement. Thus, `xobj`, is a noisy estimate of the object with respect to the observer. I assume that the noise in `xobj` is normally distributed with mean $\\mu$ and standard deviation $\\sigma_{obj}$.\n",
    "\n",
    "I also assume that the velocity of observer's self-motion (i.e., body motion) and object's velocity are drawn from Gaussian distributions with zero-mean and standard deviation of $\\sigma_{p}$ and $\\sigma_{o}$ respectively.\n",
    "\n",
    "I simulate the model in a binary classification task where the observer views visual scene motion (optic flow, patterns of light on the retina simulating his/her movement) and motion of an object. The observer indicates if the object was stationary or moving in the world. \n",
    "\n",
    "The behavioral data for validating the model predictions has been published in the ** Proceedings of the National Academy of Sciences**. __[Article Link](https://www.pnas.org/content/116/18/9060.short?rss=1)__\n",
    "\n",
    "Please also see Part 2 Notebook for an extension of this model. Each notebook is stand-alone and can be read by-itself."
   ]
  },
  {
   "cell_type": "code",
   "execution_count": 1,
   "metadata": {},
   "outputs": [],
   "source": [
    "import numpy as np\n",
    "import matplotlib.pyplot as plt\n",
    "import seaborn as sns\n",
    "import pandas as pd"
   ]
  },
  {
   "cell_type": "markdown",
   "metadata": {},
   "source": [
    "`bodymotion` refers to the observer's self-motion vector - it captures both the speed and the direction of observer's body movement. + indicates rightward motion and - indicates leftward motion."
   ]
  },
  {
   "cell_type": "code",
   "execution_count": 2,
   "metadata": {},
   "outputs": [],
   "source": [
    "# Defining the speed and direction of the observer's motion (i.e., self-motion).\n",
    "\n",
    "body_angle = np.array([-45, 45] + list(range(-25,30,5)))\n",
    "\n",
    "bodymotion = 13 * body_angle * (3.14/180)\n",
    "bodymotion.sort()"
   ]
  },
  {
   "cell_type": "markdown",
   "metadata": {},
   "source": [
    "`objmotion` refers to the velocity of object's motion in the world.  "
   ]
  },
  {
   "cell_type": "code",
   "execution_count": 3,
   "metadata": {},
   "outputs": [],
   "source": [
    "# Defining the range of object velocities. \n",
    "\n",
    "objmotion = np.array([-200, -100, -50, -25, -10, -5, -2.5, 0, 2.5, 5, 10, 25, 50, 100, 200])"
   ]
  },
  {
   "cell_type": "code",
   "execution_count": 4,
   "metadata": {},
   "outputs": [],
   "source": [
    "# Creating a matrix of self-motion and object speeds for easy matrix manipulation.\n",
    "\n",
    "no_samples = 1000\n",
    "\n",
    "[heading_orig, obj_orig] = np.meshgrid(bodymotion, objmotion)\n",
    "heading_orig = heading_orig.reshape(heading_orig.shape[0],heading_orig.shape[1],1)\n",
    "heading = np.repeat(heading_orig, no_samples, axis=2)"
   ]
  },
  {
   "cell_type": "markdown",
   "metadata": {},
   "source": [
    "#### The model simulates the decision-making process for each cue sample. Each sample represents a single presentation of the self-motion and object motion stimuli. The model simulates 1000 such samples and computes the probabilities for each of the samples."
   ]
  },
  {
   "cell_type": "code",
   "execution_count": 5,
   "metadata": {},
   "outputs": [],
   "source": [
    "# Creating an array of 1000 samples for easy vector operations. \n",
    "\n",
    "obj_orig = obj_orig.reshape(obj_orig.shape[0],obj_orig.shape[1],1)\n",
    "objvel = np.repeat(obj_orig, 1000, axis=2)"
   ]
  },
  {
   "cell_type": "markdown",
   "metadata": {},
   "source": [
    "#### `heading` represents vectorized self-motion velocity (i.e., observer's)."
   ]
  },
  {
   "cell_type": "code",
   "execution_count": 6,
   "metadata": {},
   "outputs": [],
   "source": [
    "# Simulating noisy visual self-motion samples.\n",
    "\n",
    "sigma_vis = 5\n",
    "\n",
    "xvis = heading + sigma_vis * np.random.normal(0,1,(heading.shape[0], heading.shape[1], heading.shape[2]))#"
   ]
  },
  {
   "cell_type": "markdown",
   "metadata": {},
   "source": [
    "#### `objvel` represents vectorized object velocity in the world.\n"
   ]
  },
  {
   "cell_type": "code",
   "execution_count": 7,
   "metadata": {},
   "outputs": [],
   "source": [
    "# Simulating noisy retinal object motion samples.\n",
    "\n",
    "sigma_obj = 2\n",
    "\n",
    "xobj = (objvel - heading) + sigma_obj * np.random.normal(0,1,(heading.shape[0],heading.shape[1],heading.shape[2]))"
   ]
  },
  {
   "cell_type": "markdown",
   "metadata": {},
   "source": [
    "For the simulation purposes, I assume that self-motion stimuli (`bodymotion`) is drawn from a gaussian distribution with mean $\\mu$=0 and standard deviation $\\sigma_{p}$.\n",
    "\n",
    "Similarly, I assume that object motion vector (`objmotion`) is drawn from a gaussian distribution with mean $\\mu$ = 0 and standard deviation $\\sigma_{o}$."
   ]
  },
  {
   "cell_type": "code",
   "execution_count": 8,
   "metadata": {},
   "outputs": [],
   "source": [
    "sigma_p = 5\n",
    "\n",
    "sigma_o = 100"
   ]
  },
  {
   "cell_type": "code",
   "execution_count": 9,
   "metadata": {},
   "outputs": [],
   "source": [
    "# For ease of mathematical operations, inverse variance is computed as J.\n",
    "\n",
    "Jvis = 1/(sigma_vis**2)\n",
    "Jobj = 1/(sigma_obj**2)\n",
    "Jp   = 1/(sigma_p**2)\n",
    "Jo   = 1/(sigma_o**2)\n",
    "pcommon = 0.5"
   ]
  },
  {
   "cell_type": "code",
   "execution_count": 10,
   "metadata": {},
   "outputs": [],
   "source": [
    "J4 = Jobj*Jo/(Jobj+Jo)"
   ]
  },
  {
   "cell_type": "markdown",
   "metadata": {},
   "source": [
    "#### `pc1` is the likelihood that a stationary object underlies the observed `xvis` anx `xobj`."
   ]
  },
  {
   "cell_type": "code",
   "execution_count": 11,
   "metadata": {},
   "outputs": [],
   "source": [
    "pC1_constant = 1/(2*np.pi) * np.sqrt(   Jvis*Jobj*Jp/( (2*np.pi)*(Jvis+Jobj+Jp)    )   )"
   ]
  },
  {
   "cell_type": "code",
   "execution_count": 12,
   "metadata": {},
   "outputs": [],
   "source": [
    "pC1_expterm = ( Jvis*Jobj*((xvis-xobj)**2) + Jp*Jobj*(xobj**2) + Jp*Jvis*(xvis**2) )/(Jvis+Jobj+Jp)"
   ]
  },
  {
   "cell_type": "code",
   "execution_count": 13,
   "metadata": {},
   "outputs": [],
   "source": [
    "pC1 = pC1_constant * np.exp(-0.5 * pC1_expterm)"
   ]
  },
  {
   "cell_type": "code",
   "execution_count": 14,
   "metadata": {},
   "outputs": [],
   "source": [
    "pC1_constant = 1/(2*np.pi) * np.sqrt(   Jvis*Jobj*Jp/( (2*np.pi)*(Jvis+Jobj+Jp)    )   )\n",
    "pC1_expterm = ( Jvis*Jobj*((xvis-xobj)**2) + Jp*Jobj*(xobj**2) + Jp*Jvis*(xvis**2) )/(Jvis+Jobj+Jp)\n",
    "pC1 = pC1_constant * np.exp(-0.5 * pC1_expterm)"
   ]
  },
  {
   "cell_type": "markdown",
   "metadata": {},
   "source": [
    "#### `pc2` is the likelihood that an independently moving object is responsible for the observed `xvis` and `xobj`."
   ]
  },
  {
   "cell_type": "code",
   "execution_count": 15,
   "metadata": {},
   "outputs": [],
   "source": [
    "pC2_constant = 1/(2*np.pi) * np.sqrt(  (Jvis*Jp*J4) / (2*np.pi* (Jvis+Jp+J4) )  )"
   ]
  },
  {
   "cell_type": "code",
   "execution_count": 16,
   "metadata": {},
   "outputs": [],
   "source": [
    "pC2_expterm = Jvis*Jp*(xvis**2) + Jp*J4*(xobj**2) + Jvis*J4*( (xvis-xobj)**2) / (Jvis+Jp+J4)"
   ]
  },
  {
   "cell_type": "code",
   "execution_count": 17,
   "metadata": {},
   "outputs": [],
   "source": [
    "pC2 = pC2_constant * np.exp(-0.5 * pC2_expterm)"
   ]
  },
  {
   "cell_type": "markdown",
   "metadata": {},
   "source": [
    "#### The model now calculates the ratio of the likelihoods `pc1/pc2`. `pcommon` is the prior probability of an object, in general, being stationary. `p_C1_C2` represents the ratio of the posterior probabilities of the C=1 (stationary object) to C=2 (moving object) scenarios."
   ]
  },
  {
   "cell_type": "code",
   "execution_count": 18,
   "metadata": {},
   "outputs": [],
   "source": [
    "pcommon = 0.8\n",
    "\n",
    "p_C1_C2 = pC1*pcommon/(pC2*(1-pcommon))"
   ]
  },
  {
   "cell_type": "markdown",
   "metadata": {},
   "source": [
    "#### The model predicts the object to be stationary if the ratio of likelihoods `p_C1_C2` > 1. "
   ]
  },
  {
   "cell_type": "code",
   "execution_count": 19,
   "metadata": {},
   "outputs": [],
   "source": [
    "bool_p_C1_C2 = p_C1_C2 > 1"
   ]
  },
  {
   "cell_type": "markdown",
   "metadata": {},
   "source": [
    "#### Calculating the proportion of trials (or samples) for each object and self-motion velocity for which the model predicted a stationary object."
   ]
  },
  {
   "cell_type": "code",
   "execution_count": 20,
   "metadata": {},
   "outputs": [],
   "source": [
    "prop_OS = bool_p_C1_C2.sum(axis=2)/1000"
   ]
  },
  {
   "cell_type": "code",
   "execution_count": 22,
   "metadata": {},
   "outputs": [],
   "source": [
    "# Converting model predictions into a dataframe.\n",
    "\n",
    "propOS = pd.DataFrame(data=prop_OS, columns=list(np.sort(body_angle)))\n",
    "\n",
    "propOS['object velocity'] = objmotion\n",
    "\n",
    "propOS.set_index(keys='object velocity', inplace=True)\n",
    "\n"
   ]
  },
  {
   "cell_type": "markdown",
   "metadata": {},
   "source": [
    "#### Calculating the proportion of object stationary reports for each object speed, averaged across all self-motion vectors."
   ]
  },
  {
   "cell_type": "code",
   "execution_count": 23,
   "metadata": {},
   "outputs": [],
   "source": [
    "model_pred = propOS.mean(axis=1)"
   ]
  },
  {
   "cell_type": "markdown",
   "metadata": {},
   "source": [
    "#### Plotting the model's prediction verses the speed of the object. "
   ]
  },
  {
   "cell_type": "code",
   "execution_count": 24,
   "metadata": {},
   "outputs": [
    {
     "name": "stderr",
     "output_type": "stream",
     "text": [
      "C:\\Users\\D\\Anaconda3\\lib\\site-packages\\ipykernel_launcher.py:2: RuntimeWarning: divide by zero encountered in log\n",
      "  \n"
     ]
    }
   ],
   "source": [
    "# Converting the object speed into a logarithmic axis for clear visualization.\n",
    "xvar = np.nan_to_num(np.sign(model_pred.index)*np.log(np.abs(model_pred.index)))\n"
   ]
  },
  {
   "cell_type": "code",
   "execution_count": 25,
   "metadata": {},
   "outputs": [
    {
     "data": {
      "text/plain": [
       "Text(0.5, 1.0, 'Bayesian model predictions')"
      ]
     },
     "execution_count": 25,
     "metadata": {},
     "output_type": "execute_result"
    },
    {
     "data": {
      "image/png": "[encoded data removed]",
      "text/plain": [
       "<Figure size 432x288 with 1 Axes>"
      ]
     },
     "metadata": {
      "needs_background": "light"
     },
     "output_type": "display_data"
    }
   ],
   "source": [
    "sns.set_style()\n",
    "sns.set_context(context='notebook',font_scale = 1.2)\n",
    "plt.plot(xvar, model_pred, marker='o',color='blue')\n",
    "plt.ylim([-0.05,1])\n",
    "sns.despine()\n",
    "plt.ylabel(\"Proportion of object stationary reports\")\n",
    "plt.xlabel('Object velocity (cm/s)')\n",
    "plt.title('Bayesian model predictions')"
   ]
  },
  {
   "cell_type": "markdown",
   "metadata": {},
   "source": [
    "#### The Bayesian model predictions make intuitive sense. We are unlikely to mistake a fast moving object to be stationary - the model correctly predicts moving object in these trials. However, at slow speeds, we can be unsure of whether the object is moving at all. This is captured by ~ unity proportion of stationary object reports at slow speeds, and a decline in proportion reports as speed increases.\n",
    "\n",
    "#### Thus, the Bayesian model explains well how the brain can determine the motion properties of an external object."
   ]
  },
  {
   "cell_type": "markdown",
   "metadata": {},
   "source": [
    "Now the observer estimates if the object is stationary or moving independently in the world. How does this information about whether the object is stationary or moving influence observer's perception of his/her movement.  Please see the accompanying notebook. "
   ]
  }
 ],
 "metadata": {
  "kernelspec": {
   "display_name": "Python 3",
   "language": "python",
   "name": "python3"
  },
  "language_info": {
   "codemirror_mode": {
    "name": "ipython",
    "version": 3
   },
   "file_extension": ".py",
   "mimetype": "text/x-python",
   "name": "python",
   "nbconvert_exporter": "python",
   "pygments_lexer": "ipython3",
   "version": "3.7.3"
  }
 },
 "nbformat": 4,
 "nbformat_minor": 2
}
