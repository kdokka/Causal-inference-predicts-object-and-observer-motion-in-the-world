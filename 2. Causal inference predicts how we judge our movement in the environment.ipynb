{
 "cells": [
  {
   "cell_type": "markdown",
   "metadata": {},
   "source": [
    "# How do we judge our motion through a dynamic environment?"
   ]
  },
  {
   "cell_type": "markdown",
   "metadata": {},
   "source": [
    "Imagine you are driving a car. You see stationary objects (such as trees and buildings) and objects that move independently (other cars on the street). In order to navigate to your desired location, you need to know how you are moving and then course-correct accordingly.\n",
    "\n",
    "\n",
    "But, the brain does not **know** how you are moving. It only has access to sensory signals from which it can infers how you are moving. I only consider visual cues here. The visual motion cues available are:  (1) motion of the obserever with respect to stationary objects in the environment `xvis` (patterns of stationary objects moving on the retina); and (2) motion of objects relative to the observer `xobj`. \n",
    "\n",
    "I propose that the brain implements a decision process, causal inference, to judge how the observer is moving in the environment. The Bayesian model that formalizes the causal inference process is a 3-step process.\n",
    "\n",
    "1. The model first predicts if the object is stationary or moving in the world (see also Part 1).\n",
    "\n",
    "2. It then predicts observer's self-motion velocity if the object was indeed stationary (C = 1 scenario) and if the object was indeed moving independently (C = 2 scenario). \n",
    "\n",
    "3. The model then calculates the most likely self-motion velocity as a sum of the self-motion vectors weighted by the respective posterior probabilities.\n",
    "\n",
    "     \n",
    "4. In-line with the binary classification design adopted throughout, given only visual cues about observer's motion (`xvis`) and visual cues about object's motion on the retina  (`xobj`), the model predicts if the observer was moving \"Rightward\" or \"Leftward\" taking into account the polarity of S^.\n",
    "\n",
    "**Novelty of the Bayesian Model**\n",
    "The model predicts how the observer estimates his/her self-motion when there are other objects in the environment. Specifically, the model predicts that the accuracy of how an observer judges his/her self-motion depends on the speed of external objects in his environment.\n",
    "\n",
    "* If the observer perceives the object to be stationary in the world, the observer attributes the viewed motion of the object to his/her own movement. Thus, at slow speeds, when the object is not truly stationary in the world, the observer mis-attributes the viewed object cues to his/her movement. This leads to errors in observer's perception. \n",
    "\n",
    "* If the observer perceives the object to move independently in the world, the observer ignores the motion of the object. At fast object speeds, the observer ignores the visual cues related to the object. This would lead to smaller errors in how the observer perceives his/her movement.\n",
    "\n",
    "**Thus, the Bayesian model predicts that at slow object speeds, the model predicts larger errors in perceived self-motion. The error in perceived self-motion decreases as the object moves faster.**\n",
    "\n",
    "\n",
    "The behavioral data that will serve as a validation for this model has been published in the **Proceedings of the National Academy of Sciences**. __[Article Link](https://www.pnas.org/content/116/18/9060.short?rss=1)__\n"
   ]
  },
  {
   "cell_type": "code",
   "execution_count": 6,
   "metadata": {},
   "outputs": [],
   "source": [
    "import numpy as np\n",
    "from scipy import special\n",
    "from scipy.optimize import curve_fit\n",
    "import matplotlib.pyplot as plt\n",
    "import seaborn as sns"
   ]
  },
  {
   "cell_type": "code",
   "execution_count": 7,
   "metadata": {},
   "outputs": [],
   "source": [
    "# Defining the range of observer's self-motion direction.  \n",
    "# -45 deg = subject is moving to left at an angle of 45 deg from the center line.\n",
    "# +30 deg = subject is moving to the right at an angle of 30 deg from the center line.\n",
    "\n",
    "bodyangle = np.array([-45, 45] + list(range(-25,30,5)))\n",
    "bodyangle.sort()\n",
    "\n",
    "# Distance traveled by the observer at the specified direction.\n",
    "\n",
    "dist = 13\n",
    "\n",
    "\n",
    "# Calculating the velocity of observer's body motion, also called self-motion velocity.\n",
    "\n",
    "bodymotion = dist * bodyangle * (3.14/180)"
   ]
  },
  {
   "cell_type": "code",
   "execution_count": 8,
   "metadata": {},
   "outputs": [],
   "source": [
    "# Defining the range of object motion velocities. \n",
    "\n",
    "# Object velocity = -200 cm/s --> Object is moving fast in a straight line from right to left.\n",
    "# Object velocity = +25 cm/s --> Object is moving slow from left to right.\n",
    "\n",
    "objmotion = np.array([-200, -100, -50, -25, -10, -5, -2.5, 0, 2.5, 5, 10, 25, 50, 100, 200])\n"
   ]
  },
  {
   "cell_type": "code",
   "execution_count": 9,
   "metadata": {},
   "outputs": [],
   "source": [
    "# I assume that visual signals indicating self-motion, xvis, is corrupted by Gaussian noise. \n",
    "\n",
    "# Noise in the visual signals xvis.\n",
    "sigmavis = 3\n",
    "\n",
    "# I also assume that visual signals indicating object's motion is corrupted by Gaussian noise.\n",
    "\n",
    "# Noise in visual object motion signals. \n",
    "sigmaobj = 3\n",
    "\n",
    "# The model assumes that observer's velocity is drawn from a Gaussian distribution \n",
    "# with width sigmap.\n",
    "\n",
    "sigmap = 10\n",
    "\n",
    "# The model assumes that object's velocity is drawn from a Gaussian distribution \n",
    "# with width sigmao.\n",
    "\n",
    "sigmao = 100\n",
    "\n",
    "# Calculating the inverse variance for ease of mathematical expressions.\n",
    "Jvis = 1/(sigmavis**2)\n",
    "Jobj = 1/(sigmaobj**2)\n",
    "Jp   = 1/(sigmap**2)\n",
    "Jo   = 1/(sigmao**2)\n",
    "\n",
    "# The calculations that are fundamental backbone of the model have been analytically \n",
    "# solved by hand and verfied in Mathematica.\n",
    "# J4 is a term that occurs during this solution.\n",
    "\n",
    "J4 = Jobj*Jo/(Jobj+Jo)\n",
    "\n",
    "\n",
    "\n",
    "# The model takes into account the prior probability that in general an object would be\n",
    "# stationary or moving in the world. The model here assumes that to be equal for a \n",
    "# stationary and moving object.\n",
    "\n",
    "pcommon = 0.5\n",
    "\n"
   ]
  },
  {
   "cell_type": "code",
   "execution_count": 10,
   "metadata": {},
   "outputs": [],
   "source": [
    "# The model makes prediction for each trial/sample of the visual cues. Each sample \n",
    "# simulates the cues experienced by the observer in each trial.\n",
    "\n",
    "no_samples = 1000"
   ]
  },
  {
   "cell_type": "code",
   "execution_count": 11,
   "metadata": {},
   "outputs": [],
   "source": [
    "# Creating a matrix of self-motion velocity for easy matrix manipulation.\n",
    "\n",
    "[heading_orig, obj_orig] = np.meshgrid(bodymotion, objmotion)\n",
    "heading_orig = heading_orig.reshape(heading_orig.shape[0],heading_orig.shape[1],1)\n",
    "heading = np.repeat(heading_orig, no_samples, axis=2)"
   ]
  },
  {
   "cell_type": "code",
   "execution_count": 12,
   "metadata": {},
   "outputs": [],
   "source": [
    "# Creating a matrix of object velocity for easy matrix manipulatiton.\n",
    "\n",
    "obj_orig = obj_orig.reshape(obj_orig.shape[0],obj_orig.shape[1],1)\n",
    "objvel = np.repeat(obj_orig, no_samples, axis=2)"
   ]
  },
  {
   "cell_type": "code",
   "execution_count": 13,
   "metadata": {},
   "outputs": [],
   "source": [
    "# Simulating noisy visual heading samples.\n",
    "\n",
    "# Note that visual cues indicating observer's self-motion depends on observer's motion\n",
    "# alone.\n",
    "\n",
    "xvis = heading + sigmavis * np.random.normal(0,1,(heading.shape[0], heading.shape[1], heading.shape[2]))"
   ]
  },
  {
   "cell_type": "code",
   "execution_count": 14,
   "metadata": {},
   "outputs": [],
   "source": [
    "# Simulating noisy retinal object motion samples.\n",
    "\n",
    "# Note here that xobj depends on observer's self-velocity ('heading') and\n",
    "# object's true velocity (objvel)\n",
    "\n",
    "xobj = heading - objvel + sigmaobj * np.random.normal(0,1,(heading.shape[0],heading.shape[1],heading.shape[2]))"
   ]
  },
  {
   "cell_type": "markdown",
   "metadata": {},
   "source": [
    "#### Step 1: Determining whether the object is stationary or moving in the world."
   ]
  },
  {
   "cell_type": "code",
   "execution_count": 15,
   "metadata": {},
   "outputs": [],
   "source": [
    "# Calculating the likelihood that the object is stationary (see Part 1 notebook).\n",
    "\n",
    "pC1_constant = 1/(2*np.pi) * np.sqrt(   Jvis*Jobj*Jp/( (2*np.pi)*(Jvis+Jobj+Jp)    )   )\n",
    "pC1_expterm = ( Jvis*Jobj*((xvis-xobj)**2) + Jp*Jobj*(xobj**2) + Jp*Jvis*(xvis**2) )/(Jvis+Jobj+Jp)\n",
    "pC1 = pC1_constant * np.exp(-0.5 * pC1_expterm)"
   ]
  },
  {
   "cell_type": "code",
   "execution_count": 16,
   "metadata": {},
   "outputs": [],
   "source": [
    "# Calculating the likelihood that the object is moving  (see Part 1 notebook).\n",
    "\n",
    "pC2_constant = 1/(2*np.pi) * np.sqrt(  (Jvis*Jp*J4) / (2*np.pi* (Jvis+Jp+J4) )  )\n",
    "pC2_expterm = Jvis*Jp*(xvis**2) + Jp*J4*(xobj**2) + Jvis*J4*( (xvis-xobj)**2) / (Jvis+Jp+J4)\n",
    "pC2 = pC2_constant * np.exp(-0.5 * pC2_expterm)"
   ]
  },
  {
   "cell_type": "code",
   "execution_count": 17,
   "metadata": {},
   "outputs": [],
   "source": [
    "# Calculating the posterior probability.\n",
    "\n",
    "p_C1_C2 = pC1*pcommon/(pC2*(1-pcommon))"
   ]
  },
  {
   "cell_type": "code",
   "execution_count": 18,
   "metadata": {},
   "outputs": [],
   "source": [
    "# Finding out the trials in which the the ratio of the posterior probability > 1.\n",
    "\n",
    "bool_p_C1_C2 = p_C1_C2 > 1"
   ]
  },
  {
   "cell_type": "code",
   "execution_count": 19,
   "metadata": {},
   "outputs": [],
   "source": [
    "# For each combination of object and observer velocity, calculate proportion of trials \n",
    "# in which the object was perceived to be stationary.\n",
    "\n",
    "prop_OS = bool_p_C1_C2.sum(axis=2)/no_samples"
   ]
  },
  {
   "cell_type": "code",
   "execution_count": 20,
   "metadata": {},
   "outputs": [
    {
     "data": {
      "text/plain": [
       "array([0.00000000e+00, 0.00000000e+00, 0.00000000e+00, 1.53846154e-04,\n",
       "       5.27153846e-01, 8.98923077e-01, 9.68153846e-01, 9.87846154e-01,\n",
       "       9.67769231e-01, 9.00538462e-01, 5.23769231e-01, 2.30769231e-04,\n",
       "       0.00000000e+00, 0.00000000e+00, 0.00000000e+00])"
      ]
     },
     "execution_count": 20,
     "metadata": {},
     "output_type": "execute_result"
    }
   ],
   "source": [
    "prop_OS.mean(axis=1)"
   ]
  },
  {
   "cell_type": "code",
   "execution_count": 21,
   "metadata": {},
   "outputs": [
    {
     "name": "stderr",
     "output_type": "stream",
     "text": [
      "C:\\Users\\D\\Anaconda3\\lib\\site-packages\\ipykernel_launcher.py:5: RuntimeWarning: divide by zero encountered in log\n",
      "  \"\"\"\n",
      "C:\\Users\\D\\Anaconda3\\lib\\site-packages\\ipykernel_launcher.py:5: RuntimeWarning: invalid value encountered in multiply\n",
      "  \"\"\"\n"
     ]
    },
    {
     "data": {
      "text/plain": [
       "Text(0, 0.5, 'Prop. object stationary reports')"
      ]
     },
     "execution_count": 21,
     "metadata": {},
     "output_type": "execute_result"
    },
    {
     "data": {
      "image/png": "[encoded data removed]",
      "text/plain": [
       "<Figure size 432x288 with 1 Axes>"
      ]
     },
     "metadata": {
      "needs_background": "light"
     },
     "output_type": "display_data"
    }
   ],
   "source": [
    "sns.set_style()\n",
    "sns.set_context(context='notebook',font_scale = 1.4)\n",
    "\n",
    "# Converting the object velocity to be plotted on a log-scale.\n",
    "xvar = np.nan_to_num(np.sign(objmotion)*np.log(np.abs(objmotion)))\n",
    "\n",
    "plt.plot(xvar, prop_OS.mean(axis=1), marker='o')\n",
    "sns.despine()\n",
    "plt.xlabel('Object velocity')\n",
    "plt.ylabel('Prop. object stationary reports')\n"
   ]
  },
  {
   "cell_type": "markdown",
   "metadata": {},
   "source": [
    "####  Step 2: Calculating obserever's self-motion velocity if the object was stationary (`Stheta_C1`) and if the object was moving (`Stheta_C2`). "
   ]
  },
  {
   "cell_type": "code",
   "execution_count": 22,
   "metadata": {},
   "outputs": [],
   "source": [
    "# Calculating self-motion velocity if object is perceived to be stationary (C=1).\n",
    "\n",
    "Stheta_C1 = (  xvis/(sigmavis**2) + xobj/(sigmaobj**2)  ) / (  1/(sigmavis**2) + 1/(sigmaobj**2) + 1/(sigmap**2) )"
   ]
  },
  {
   "cell_type": "code",
   "execution_count": 23,
   "metadata": {},
   "outputs": [],
   "source": [
    "# Calculating the self-motion velocity if object is perceived to be moving (C=2).\n",
    "\n",
    "Stheta_C2 = (  xvis/(sigmavis**2) + xobj/(sigmaobj**2 + sigmao**2)  ) / (  1/(sigmavis**2) + 1/(sigmao**2 + sigmaobj**2) + 1/(sigmap**2)  )"
   ]
  },
  {
   "cell_type": "markdown",
   "metadata": {},
   "source": [
    "#### Step 3: Calculating the composite final self-motion velocity, the observer's motion vector, as a sum of the two estimates, `Stheta_C1` and `Stheta_C2`, and weighting them with their respective posterior probabilities, `pC1` and `pC2`.\n",
    "\n",
    "If the object is more likely to be stationary, `Stheta_C1` will have a bigger contribution in the final estimate. Since `Stheta_C1` incorporates object signals `xobj`, `Stheta_C1` will be more different from the true self-motion velocity. Consequently, `Stheta` will have more errors when object is perceived to be stationary. "
   ]
  },
  {
   "cell_type": "code",
   "execution_count": 25,
   "metadata": {},
   "outputs": [],
   "source": [
    "# Predicting the composite self-motion velocity.\n",
    "\n",
    "Stheta = np.multiply(pC1, Stheta_C1) + np.multiply(pC2, Stheta_C2)"
   ]
  },
  {
   "cell_type": "code",
   "execution_count": 26,
   "metadata": {},
   "outputs": [],
   "source": [
    "# The model predicts observer moved to the RIGHT if Stheta > 0.\n",
    "\n",
    "\n",
    "bool_Stheta = Stheta > 0"
   ]
  },
  {
   "cell_type": "code",
   "execution_count": 27,
   "metadata": {},
   "outputs": [],
   "source": [
    "# Calculating the proportion of trials in which model predicted RIGHTWARD movement\n",
    "# for each object velocity.\n",
    "\n",
    "propR = bool_Stheta.sum(axis=2)/no_samples"
   ]
  },
  {
   "cell_type": "markdown",
   "metadata": {},
   "source": [
    "The model predicts a binary response: 1 = observer moved to the **RIGHT** (S^ > 0).\n",
    "0 = observer moved to the **LEFT** (S^ < 0).\n",
    "\n",
    "To evaluate how object speed influenced the self-motion discrimination, a Cumulative Gaussian function is fitted to the data with:\n",
    "x = true body velocity (as defined at the start), `bodymotion` variable.\n",
    "y = proportion of **Rightward** responses as predicted by the ideal observer (model).\n",
    "\n",
    "The $\\mu$ of the fits represents the error between the observer's actual self-motion and his/her perceived self-motion"
   ]
  },
  {
   "cell_type": "code",
   "execution_count": 28,
   "metadata": {},
   "outputs": [],
   "source": [
    "# Defining the cumulative gaussian function.\n",
    "\n",
    "def cumgauss(x,bias,thr):\n",
    "    return 0.5*(1 + special.erf( (x - bias)/(np.sqrt(2)*thr) ) )"
   ]
  },
  {
   "cell_type": "markdown",
   "metadata": {},
   "source": [
    "`cumgauss` function is fitted to the proportion of Rightward responses at each object velocity using `curve_fit` optimization routine."
   ]
  },
  {
   "cell_type": "code",
   "execution_count": 29,
   "metadata": {},
   "outputs": [],
   "source": [
    "# Fitting cumulative gaussian to data at each object velocity.\n",
    "\n",
    "params = np.ones((objmotion.shape[0],2))\n",
    "\n",
    "for i in range(0,15):\n",
    "    params[i,:], x_cov = curve_fit(cumgauss, bodyangle, propR[i,:])\n",
    "   "
   ]
  },
  {
   "cell_type": "code",
   "execution_count": 31,
   "metadata": {},
   "outputs": [
    {
     "name": "stderr",
     "output_type": "stream",
     "text": [
      "C:\\Users\\D\\Anaconda3\\lib\\site-packages\\ipykernel_launcher.py:3: RuntimeWarning: divide by zero encountered in log\n",
      "  This is separate from the ipykernel package so we can avoid doing imports until\n",
      "C:\\Users\\D\\Anaconda3\\lib\\site-packages\\ipykernel_launcher.py:3: RuntimeWarning: invalid value encountered in multiply\n",
      "  This is separate from the ipykernel package so we can avoid doing imports until\n"
     ]
    },
    {
     "data": {
      "text/plain": [
       "Text(0, 0.5, 'Heading error (deg)')"
      ]
     },
     "execution_count": 31,
     "metadata": {},
     "output_type": "execute_result"
    },
    {
     "data": {
      "image/png": "[encoded data removed]",
      "text/plain": [
       "<Figure size 432x288 with 1 Axes>"
      ]
     },
     "metadata": {
      "needs_background": "light"
     },
     "output_type": "display_data"
    }
   ],
   "source": [
    "# Plotting the error in self-motion perception as a function of object velocity.\n",
    "\n",
    "xvar= np.nan_to_num(np.sign(objmotion) *np.log(np.abs(objmotion)))\n",
    "\n",
    "# The warning below is related to creating the dummy x-variable for easy visualization \n",
    "# of the model predictions. The warning is not related to performance of the model.\n",
    "\n",
    "\n",
    "import seaborn as sns\n",
    "import matplotlib.pyplot as plt\n",
    "\n",
    "plt.plot(xvar, params[:,0], marker='o',color='red')\n",
    "\n",
    "sns.set_style()\n",
    "sns.set_context(context='notebook',font_scale = 1.3)\n",
    "sns.despine()\n",
    "plt.xlabel('Object velocity (cm/s)')\n",
    "plt.ylabel('Heading error (deg)')"
   ]
  },
  {
   "cell_type": "markdown",
   "metadata": {},
   "source": [
    "Note that the X-axis is logarithmically scaled to better see the patterns at slow object speeds."
   ]
  },
  {
   "cell_type": "markdown",
   "metadata": {},
   "source": [
    "## Thus, the Bayesian model predicts larger errors in self-motion judgement when there are slow-moving objects in the environment."
   ]
  },
  {
   "cell_type": "markdown",
   "metadata": {},
   "source": [
    "#### The Bayesian model predicts perfectly match the behavioral data collected by testing human subjects and macaque monkeys in an identical behavioral task.\n",
    "\n",
    "The behavioral data is published in the **Proceedings of the National Academy of Sciences**."
   ]
  }
 ],
 "metadata": {
  "kernelspec": {
   "display_name": "Python 3",
   "language": "python",
   "name": "python3"
  },
  "language_info": {
   "codemirror_mode": {
    "name": "ipython",
    "version": 3
   },
   "file_extension": ".py",
   "mimetype": "text/x-python",
   "name": "python",
   "nbconvert_exporter": "python",
   "pygments_lexer": "ipython3",
   "version": "3.7.3"
  }
 },
 "nbformat": 4,
 "nbformat_minor": 2
}
